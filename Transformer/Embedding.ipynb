{
 "cells": [
  {
   "cell_type": "code",
   "execution_count": 2,
   "metadata": {},
   "outputs": [],
   "source": [
    "import numpy as np\n",
    "import matplotlib.pyplot as plt\n",
    "import os \n",
    "import sys\n",
    "import torch\n",
    "import torch.nn as nn\n",
    "from torch.utils.data import DataLoader, random_split\n",
    "\n",
    "module_dir = '../DataGeneration/Python'\n",
    "if module_dir not in sys.path:\n",
    "    sys.path.append(module_dir)\n",
    "    \n",
    "import Sample\n",
    "import Dataloader"
   ]
  },
  {
   "cell_type": "code",
   "execution_count": 9,
   "metadata": {},
   "outputs": [],
   "source": [
    "DATASET_PATH = '../Dataset/CC10k.npy'\n",
    "BATCH_SIZE = 32\n",
    "D_MODEL = 64  \n",
    "N_WORKERS = 0\n",
    "\n",
    "# From data\n",
    "d_input = 10+4*(10) # 10 Ages + 4 thermochronometers*(10 samples))\n",
    "d_output = 7+3*5+5  # Output sequence 7 constants + 3 exhumation_history params * 5 rates + 5 uplift rates"
   ]
  },
  {
   "cell_type": "code",
   "execution_count": 10,
   "metadata": {},
   "outputs": [],
   "source": [
    "geoData = Dataloader.formattedLoader(d_input, d_output, DATASET_PATH) # Get input data formatted for network\n",
    "data_train, data_val, data_test = random_split(geoData, (9000, 500, 500))\n",
    "\n",
    "dataloader_train = DataLoader(data_train, batch_size=BATCH_SIZE, shuffle=True, num_workers=N_WORKERS)\n",
    "\n",
    "dataloader_val = DataLoader(data_val, batch_size=BATCH_SIZE, shuffle=True, num_workers=N_WORKERS)\n",
    "\n",
    "dataloader_test = DataLoader(data_test, batch_size=BATCH_SIZE, shuffle=False, num_workers=N_WORKERS)"
   ]
  },
  {
   "cell_type": "markdown",
   "metadata": {},
   "source": [
    "## Unformatted Data format = [$(H_{thermal}, Sample)$]\n",
    "\n",
    "### $H_{thermal} = (\\textbf{Age}, \\textbf{AHe},  \\textbf{AFT}, \\textbf{ZHe},  \\textbf{ZFT})$ where each thermochronometer's units is Km, representing the elevation at which you would find a sample of that age. See a plot below.\n",
    "\n",
    "### $Sample$ is an object with the following instance fields that can be accessed via the `.` operator: \n",
    "\n",
    "${duration, n\\_horizons, horizon\\_dep, num\\_events, uplift\\_rate\\_mean, uplift\\_rate\\_std, \\textbf{exhumation\\_history}}$\n",
    "$\\textbf{exhumation\\_rates}, basement\\_cond, surface\\_hp, hp\\_depth, surf\\_hf, surf\\_temp$"
   ]
  },
  {
   "cell_type": "code",
   "execution_count": 33,
   "metadata": {},
   "outputs": [
    {
     "name": "stdout",
     "output_type": "stream",
     "text": [
      "duration = 17.0\n",
      "n_horizons = 10\n",
      "horizon_dep = [5, 8, 11, 13, 15, 17, 19, 21, 23, 25]\n",
      "num_events = 4\n",
      "uplift_rate_mean = 1.5\n",
      "uplift_rate_std = 1\n",
      "exhumation_history = [[ 1.4  6.2  9.5]\n",
      " [ 7.6  4.5 11.2]\n",
      " [12.1  3.4  7.2]\n",
      " [15.5  4.5  5.6]]\n",
      "exhumation_rates = [1.53, 2.48, 2.11, 1.24]\n",
      "basement_cond = 2.7\n",
      "surface_hp = 2.0\n",
      "hp_depth = 35.0\n",
      "surf_hf = 95.6\n",
      "surf_temp = 0.0\n"
     ]
    },
    {
     "data": {
      "text/plain": [
       "[<matplotlib.lines.Line2D at 0x7fe15ae39340>]"
      ]
     },
     "execution_count": 33,
     "metadata": {},
     "output_type": "execute_result"
    },
    {
     "data": {
      "image/png": "[encoded data removed]",
      "text/plain": [
       "<Figure size 432x288 with 1 Axes>"
      ]
     },
     "metadata": {
      "needs_background": "light"
     },
     "output_type": "display_data"
    }
   ],
   "source": [
    " = dat[0]\n",
    "age, Ahe, Aft, ZHe, Zft = x[0] # Age/Elevation data for each system\n",
    "x[1].summary() # Summary of model input that generated age/elevation data. \n",
    "plt.plot(age, Ahe)\n",
    "plt.plot(age, Aft)\n",
    "plt.plot(age, ZHe)\n",
    "plt.plot(age, Zft)"
   ]
  },
  {
   "cell_type": "code",
   "execution_count": 57,
   "metadata": {},
   "outputs": [],
   "source": [
    "i = x[0]\n",
    "age, Ahe, Aft, ZHe, Zft = i"
   ]
  },
  {
   "cell_type": "code",
   "execution_count": 36,
   "metadata": {},
   "outputs": [
    {
     "data": {
      "text/plain": [
       "array([(array([-0.,  3.,  6.,  8., 10., 12., 14., 16., 18., 20.]), [3.892, 5.922, 7.8260000000000005, 8.666, 9.49, 10.306000000000001, 11.122, 11.934000000000001, 12.842, 13.788], [2.928, 5.122, 7.192, 8.268, 9.126, 9.964, 10.794, 11.618, 12.476, 13.418000000000001], [0.002, 4.16, 6.368, 7.7540000000000004, 8.706, 9.58, 10.432, 11.272, 12.106, 13.028], [0.002, 2.7960000000000003, 5.394, 6.886, 8.186, 9.134, 10.022, 10.888, 11.738, 12.616]),\n",
       "       <Sample.Sample object at 0x7fe159eed580>], dtype=object)"
      ]
     },
     "execution_count": 36,
     "metadata": {},
     "output_type": "execute_result"
    }
   ],
   "source": [
    "\n",
    "\n",
    "\n",
    "# Define embedding layer\n",
    "embedding_layer = nn.Linear(d_input, D_MODEL)\n",
    "\n",
    "# Define a batch of input data points\n",
    "input_data = torch.randn(BATCH_SIZE, 10+4*(10))  \n",
    "# Normalize the input\n",
    "i = np.array([*x[0]])\n",
    "i = ((i - np.mean(i, axis=1, keepdims=True)) / np.std(i, axis=1, keepdims=True)).flatten()\n",
    "\n",
    "# Pass the inputs through the embedding layer\n",
    "embeddings = embedding_layer(inputs)\n"
   ]
  }
 ],
 "metadata": {
  "interpreter": {
   "hash": "d65bdc5d2ce5f47a5dacc71f251d002481db9b35ba5522b1e89f66f66f443b2e"
  },
  "kernelspec": {
   "display_name": "Python 3.8.8 64-bit ('base': conda)",
   "name": "python3"
  },
  "language_info": {
   "codemirror_mode": {
    "name": "ipython",
    "version": 3
   },
   "file_extension": ".py",
   "mimetype": "text/x-python",
   "name": "python",
   "nbconvert_exporter": "python",
   "pygments_lexer": "ipython3",
   "version": "3.8.8"
  },
  "orig_nbformat": 4
 },
 "nbformat": 4,
 "nbformat_minor": 2
}
