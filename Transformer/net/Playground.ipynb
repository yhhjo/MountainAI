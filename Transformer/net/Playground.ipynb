{
 "cells": [
  {
   "cell_type": "code",
   "execution_count": 1,
   "metadata": {},
   "outputs": [],
   "source": [
    "import math\n",
    "import numpy as np\n",
    "import matplotlib.pyplot as plt \n",
    "import torch\n",
    "import torch.nn as nn\n",
    "import torch.nn.functional as F\n",
    "from PositionalEncoding import PositionalEncoding\n",
    "\n",
    "import sys\n",
    "sys.path.insert(0, '../../DataGeneration/Python/')\n",
    "sys.path.insert(0, '../')\n",
    "\n",
    "import Dataloader\n",
    "\n",
    "import Sample\n"
   ]
  },
  {
   "cell_type": "code",
   "execution_count": 7,
   "metadata": {},
   "outputs": [],
   "source": [
    "d_model = 8\n",
    "dropout = 0\n",
    "seqlen = 10 \n",
    "batch_size = 16\n",
    "d_output = 27\n",
    "\n",
    "dataset_path = '../../Dataset/CCVal300.npy'\n",
    "dataset = np.load(dataset_path,allow_pickle=True)"
   ]
  },
  {
   "cell_type": "code",
   "execution_count": 3,
   "metadata": {},
   "outputs": [],
   "source": [
    "def process_input(dataset):\n",
    "    \"\"\"Pulls inputs from dataset and returns an array (dataset_size, 10, 5) normalized across the 1st dimension\"\"\"\n",
    "    y = np.array([*dataset])[:,0]\n",
    "    y = np.array([np.array(z) for z in y])\n",
    "    std = np.std(y, axis=-1, keepdims=True)\n",
    "    mean = np.mean(y, axis=-1, keepdims=True)\n",
    "    std[std==0] = .0001\n",
    "    y = (y - mean) / std\n",
    "    y = np.transpose(y, (0, 2, 1))\n",
    "    return y\n"
   ]
  },
  {
   "cell_type": "code",
   "execution_count": 16,
   "metadata": {},
   "outputs": [],
   "source": [
    "y = np.array([*dataset])[:,0]\n",
    "y = np.array([np.array(z) for z in y])\n",
    "std = np.std(y, axis=1, keepdims=True)\n",
    "mean = np.mean(y, axis=1, keepdims=True)\n",
    "std[std==0] = .0001\n",
    "y = (y - mean) / std\n",
    "y = np.transpose(y, (0, 2, 1))"
   ]
  },
  {
   "cell_type": "code",
   "execution_count": 19,
   "metadata": {},
   "outputs": [
    {
     "data": {
      "text/plain": [
       "(array([-0.,  3.,  6.,  8., 10., 12., 14., 16., 18., 20.]),\n",
       " [8.276,\n",
       "  9.388,\n",
       "  10.486,\n",
       "  11.178,\n",
       "  11.846,\n",
       "  12.514000000000001,\n",
       "  13.18,\n",
       "  13.846,\n",
       "  15.48,\n",
       "  21.0],\n",
       " [7.816,\n",
       "  9.024000000000001,\n",
       "  10.162,\n",
       "  10.898,\n",
       "  11.586,\n",
       "  12.264000000000001,\n",
       "  12.938,\n",
       "  13.61,\n",
       "  14.334,\n",
       "  16.948],\n",
       " [0.002,\n",
       "  8.568,\n",
       "  9.788,\n",
       "  10.562,\n",
       "  11.288,\n",
       "  11.984,\n",
       "  12.672,\n",
       "  13.352,\n",
       "  14.030000000000001,\n",
       "  15.432],\n",
       " [0.002, 7.908, 9.33, 10.154, 10.94, 11.666, 12.372, 13.066, 13.754, 14.538])"
      ]
     },
     "execution_count": 19,
     "metadata": {},
     "output_type": "execute_result"
    }
   ],
   "source": [
    "dataset[0][0]"
   ]
  },
  {
   "cell_type": "code",
   "execution_count": 14,
   "metadata": {},
   "outputs": [],
   "source": [
    "\n"
   ]
  },
  {
   "cell_type": "code",
   "execution_count": 17,
   "metadata": {},
   "outputs": [
    {
     "data": {
      "text/plain": [
       "(array([[-1.72648029, -1.30081071, -1.62989114, -2.64081536, -2.61915945],\n",
       "        [-1.24242039, -0.97527137, -1.15453902, -0.53960371, -0.62252705],\n",
       "        [-0.7583605 , -0.65383054, -0.70673213, -0.24034172, -0.26340597],\n",
       "        [-0.4356539 , -0.45124671, -0.41711362, -0.05048206, -0.05530768],\n",
       "        [-0.11294731, -0.2556889 , -0.14638327,  0.12760335,  0.14319385],\n",
       "        [ 0.20975929, -0.0601311 ,  0.12041204,  0.29832986,  0.32654259],\n",
       "        [ 0.53246588,  0.13484121,  0.38563335,  0.467094  ,  0.5048404 ],\n",
       "        [ 0.85517248,  0.32981351,  0.65006764,  0.63389577,  0.68010765],\n",
       "        [ 1.17787907,  0.80816898,  0.93496411,  0.80020694,  0.85385962],\n",
       "        [ 1.50058567,  2.42415563,  1.96358204,  1.14411293,  1.05185605]]),\n",
       " array([ 21.  ,   3.  ,   2.87,   2.06,  45.  , 103.8 ,   7.  ,   6.8 ,\n",
       "          3.9 ,  10.9 ,  10.7 ,   3.5 ,  10.6 ,  14.2 ,   2.8 ,   1.4 ,\n",
       "          2.79,   3.02,   0.5 ,   0.  ,   0.  ,   0.  ,   0.  ,   0.  ,\n",
       "          0.  ,   0.  ,   0.  ]))"
      ]
     },
     "execution_count": 17,
     "metadata": {},
     "output_type": "execute_result"
    }
   ],
   "source": []
  },
  {
   "cell_type": "code",
   "execution_count": 8,
   "metadata": {},
   "outputs": [],
   "source": [
    "def process_input(dataset):\n",
    "    \"\"\"Pulls inputs from dataset and returns an array (dataset_size, 10, 5) normalized across the 1st dimension\"\"\"\n",
    "    y = np.array([*dataset])[:,0]\n",
    "    y = np.array([np.array(z) for z in y])\n",
    "    std = np.std(y, axis=-1, keepdims=True)\n",
    "    mean = np.mean(y, axis=-1, keepdims=True)\n",
    "    std[std==0] = .0001\n",
    "    y = (y - mean) / std\n",
    "    y = np.transpose(y, (0, 2, 1))\n",
    "    return y\n",
    "    \n",
    "def process_output(dataset, d_output: int) -> np.array([]):\n",
    "    \"\"\"Input: dataset. Returns the concatenated values of Sample object 0-padded to be size d_output\"\"\"\n",
    "    Y = np.array([*dataset])[:,1]\n",
    "    ret = np.zeros((Y.shape[0], d_output))\n",
    "    for i, y in enumerate(Y):\n",
    "        t = [y.duration, y.num_events, y.basement_cond, y.surface_hp, y.hp_depth, y.surf_hf, y.surf_temp, \n",
    "        *y.exhumation_history.flatten(), *y.exhumation_rates]\n",
    "        t = np.pad(t, (0, d_output-len(t)), constant_values=0) #Pad\n",
    "        ret[i] = t\n",
    "    return ret\n",
    "\n",
    "def formattedLoader(d_output, dataset_path):"
   ]
  },
  {
   "cell_type": "code",
   "execution_count": 43,
   "metadata": {},
   "outputs": [],
   "source": []
  },
  {
   "cell_type": "code",
   "execution_count": 32,
   "metadata": {},
   "outputs": [],
   "source": [
    "t = [np.array([obj.duration, obj.num_events, obj.basement_cond, obj.surface_hp, obj.hp_depth, \n",
    "                       obj.surf_hf, obj.surf_temp, *obj.exhumation_history.flatten(), \n",
    "                       *obj.exhumation_rates]) for obj in y]"
   ]
  },
  {
   "cell_type": "code",
   "execution_count": 54,
   "metadata": {},
   "outputs": [],
   "source": []
  },
  {
   "cell_type": "code",
   "execution_count": 56,
   "metadata": {},
   "outputs": [
    {
     "data": {
      "text/plain": [
       "(300, 27)"
      ]
     },
     "execution_count": 56,
     "metadata": {},
     "output_type": "execute_result"
    }
   ],
   "source": [
    "ret.shape"
   ]
  },
  {
   "cell_type": "code",
   "execution_count": null,
   "metadata": {},
   "outputs": [],
   "source": []
  }
 ],
 "metadata": {
  "interpreter": {
   "hash": "d65bdc5d2ce5f47a5dacc71f251d002481db9b35ba5522b1e89f66f66f443b2e"
  },
  "kernelspec": {
   "display_name": "Python 3.8.16 64-bit ('base': conda)",
   "name": "python3"
  },
  "language_info": {
   "codemirror_mode": {
    "name": "ipython",
    "version": 3
   },
   "file_extension": ".py",
   "mimetype": "text/x-python",
   "name": "python",
   "nbconvert_exporter": "python",
   "pygments_lexer": "ipython3",
   "version": "3.8.16"
  }
 },
 "nbformat": 4,
 "nbformat_minor": 2
}
